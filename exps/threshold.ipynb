{
 "cells": [
  {
   "cell_type": "code",
   "execution_count": 10,
   "id": "d4a29968-8f6a-4e3d-86ac-877c0cf16030",
   "metadata": {},
   "outputs": [],
   "source": [
    "import pandas as pd\n",
    "import numpy as np"
   ]
  },
  {
   "cell_type": "code",
   "execution_count": 73,
   "id": "f6f41fd0-5478-4dcd-9079-575d7eba8fa1",
   "metadata": {},
   "outputs": [],
   "source": [
    "df = pd.read_pickle('./finetune/deberta-v3-large-e1_exp013/oof_df.pkl')"
   ]
  },
  {
   "cell_type": "code",
   "execution_count": 74,
   "id": "cb5815bd-1b74-4c56-a1dc-993fcfe8601a",
   "metadata": {},
   "outputs": [
    {
     "data": {
      "text/html": [
       "<div>\n",
       "<style scoped>\n",
       "    .dataframe tbody tr th:only-of-type {\n",
       "        vertical-align: middle;\n",
       "    }\n",
       "\n",
       "    .dataframe tbody tr th {\n",
       "        vertical-align: top;\n",
       "    }\n",
       "\n",
       "    .dataframe thead th {\n",
       "        text-align: right;\n",
       "    }\n",
       "</style>\n",
       "<table border=\"1\" class=\"dataframe\">\n",
       "  <thead>\n",
       "    <tr style=\"text-align: right;\">\n",
       "      <th></th>\n",
       "      <th>id</th>\n",
       "      <th>anchor</th>\n",
       "      <th>target</th>\n",
       "      <th>context</th>\n",
       "      <th>score</th>\n",
       "      <th>context_text</th>\n",
       "      <th>text</th>\n",
       "      <th>fold</th>\n",
       "      <th>pred</th>\n",
       "    </tr>\n",
       "  </thead>\n",
       "  <tbody>\n",
       "    <tr>\n",
       "      <th>0</th>\n",
       "      <td>3b4ba853a71438bf</td>\n",
       "      <td>acid absorption</td>\n",
       "      <td>absorbent cotton</td>\n",
       "      <td>B01</td>\n",
       "      <td>0.00</td>\n",
       "      <td>PERFORMING OPERATIONS; TRANSPORTING. PHYSICAL ...</td>\n",
       "      <td>acid absorption[SEP]absorbent cotton [s] PERFO...</td>\n",
       "      <td>3</td>\n",
       "      <td>0.000253</td>\n",
       "    </tr>\n",
       "    <tr>\n",
       "      <th>1</th>\n",
       "      <td>5fd6fe279671b601</td>\n",
       "      <td>acid absorption</td>\n",
       "      <td>absorption spectrum</td>\n",
       "      <td>B01</td>\n",
       "      <td>0.00</td>\n",
       "      <td>PERFORMING OPERATIONS; TRANSPORTING. PHYSICAL ...</td>\n",
       "      <td>acid absorption[SEP]absorption spectrum [s] PE...</td>\n",
       "      <td>3</td>\n",
       "      <td>0.000587</td>\n",
       "    </tr>\n",
       "    <tr>\n",
       "      <th>2</th>\n",
       "      <td>7c0ead66438745af</td>\n",
       "      <td>acid absorption</td>\n",
       "      <td>acid</td>\n",
       "      <td>B01</td>\n",
       "      <td>0.50</td>\n",
       "      <td>PERFORMING OPERATIONS; TRANSPORTING. PHYSICAL ...</td>\n",
       "      <td>acid absorption[SEP]acid [s] PERFORMING OPERAT...</td>\n",
       "      <td>3</td>\n",
       "      <td>0.411377</td>\n",
       "    </tr>\n",
       "    <tr>\n",
       "      <th>3</th>\n",
       "      <td>fce069a07304db12</td>\n",
       "      <td>acid absorption</td>\n",
       "      <td>acid absorption column</td>\n",
       "      <td>B01</td>\n",
       "      <td>0.50</td>\n",
       "      <td>PERFORMING OPERATIONS; TRANSPORTING. PHYSICAL ...</td>\n",
       "      <td>acid absorption[SEP]acid absorption column [s]...</td>\n",
       "      <td>3</td>\n",
       "      <td>0.499861</td>\n",
       "    </tr>\n",
       "    <tr>\n",
       "      <th>4</th>\n",
       "      <td>0885d130fd9d50a4</td>\n",
       "      <td>acid absorption</td>\n",
       "      <td>acid absorption tower</td>\n",
       "      <td>B01</td>\n",
       "      <td>0.50</td>\n",
       "      <td>PERFORMING OPERATIONS; TRANSPORTING. PHYSICAL ...</td>\n",
       "      <td>acid absorption[SEP]acid absorption tower [s] ...</td>\n",
       "      <td>3</td>\n",
       "      <td>0.457355</td>\n",
       "    </tr>\n",
       "    <tr>\n",
       "      <th>...</th>\n",
       "      <td>...</td>\n",
       "      <td>...</td>\n",
       "      <td>...</td>\n",
       "      <td>...</td>\n",
       "      <td>...</td>\n",
       "      <td>...</td>\n",
       "      <td>...</td>\n",
       "      <td>...</td>\n",
       "      <td>...</td>\n",
       "    </tr>\n",
       "    <tr>\n",
       "      <th>9617</th>\n",
       "      <td>209d89fbf80823b9</td>\n",
       "      <td>wiring trough</td>\n",
       "      <td>water trough</td>\n",
       "      <td>H02</td>\n",
       "      <td>0.00</td>\n",
       "      <td>ELECTRICITY. GENERATION; CONVERSION OR DISTRIB...</td>\n",
       "      <td>wiring trough[SEP]water trough [s] ELECTRICITY...</td>\n",
       "      <td>3</td>\n",
       "      <td>0.005837</td>\n",
       "    </tr>\n",
       "    <tr>\n",
       "      <th>9618</th>\n",
       "      <td>91763689326a95dc</td>\n",
       "      <td>wiring trough</td>\n",
       "      <td>wire harness trough</td>\n",
       "      <td>H02</td>\n",
       "      <td>0.75</td>\n",
       "      <td>ELECTRICITY. GENERATION; CONVERSION OR DISTRIB...</td>\n",
       "      <td>wiring trough[SEP]wire harness trough [s] ELEC...</td>\n",
       "      <td>3</td>\n",
       "      <td>0.596055</td>\n",
       "    </tr>\n",
       "    <tr>\n",
       "      <th>9619</th>\n",
       "      <td>998a56bdc805069c</td>\n",
       "      <td>wiring trough</td>\n",
       "      <td>wire rod</td>\n",
       "      <td>H02</td>\n",
       "      <td>0.00</td>\n",
       "      <td>ELECTRICITY. GENERATION; CONVERSION OR DISTRIB...</td>\n",
       "      <td>wiring trough[SEP]wire rod [s] ELECTRICITY. GE...</td>\n",
       "      <td>3</td>\n",
       "      <td>0.004403</td>\n",
       "    </tr>\n",
       "    <tr>\n",
       "      <th>9620</th>\n",
       "      <td>e7ed0be884c8e64e</td>\n",
       "      <td>wiring trough</td>\n",
       "      <td>wire trough clamp</td>\n",
       "      <td>H02</td>\n",
       "      <td>0.50</td>\n",
       "      <td>ELECTRICITY. GENERATION; CONVERSION OR DISTRIB...</td>\n",
       "      <td>wiring trough[SEP]wire trough clamp [s] ELECTR...</td>\n",
       "      <td>3</td>\n",
       "      <td>0.381238</td>\n",
       "    </tr>\n",
       "    <tr>\n",
       "      <th>9621</th>\n",
       "      <td>d4c2a8df7835ac5f</td>\n",
       "      <td>wiring trough</td>\n",
       "      <td>wiring trough structure</td>\n",
       "      <td>H02</td>\n",
       "      <td>0.75</td>\n",
       "      <td>ELECTRICITY. GENERATION; CONVERSION OR DISTRIB...</td>\n",
       "      <td>wiring trough[SEP]wiring trough structure [s] ...</td>\n",
       "      <td>3</td>\n",
       "      <td>0.604334</td>\n",
       "    </tr>\n",
       "  </tbody>\n",
       "</table>\n",
       "<p>9622 rows × 9 columns</p>\n",
       "</div>"
      ],
      "text/plain": [
       "                    id           anchor                   target context  \\\n",
       "0     3b4ba853a71438bf  acid absorption         absorbent cotton     B01   \n",
       "1     5fd6fe279671b601  acid absorption      absorption spectrum     B01   \n",
       "2     7c0ead66438745af  acid absorption                     acid     B01   \n",
       "3     fce069a07304db12  acid absorption   acid absorption column     B01   \n",
       "4     0885d130fd9d50a4  acid absorption    acid absorption tower     B01   \n",
       "...                ...              ...                      ...     ...   \n",
       "9617  209d89fbf80823b9    wiring trough             water trough     H02   \n",
       "9618  91763689326a95dc    wiring trough      wire harness trough     H02   \n",
       "9619  998a56bdc805069c    wiring trough                 wire rod     H02   \n",
       "9620  e7ed0be884c8e64e    wiring trough        wire trough clamp     H02   \n",
       "9621  d4c2a8df7835ac5f    wiring trough  wiring trough structure     H02   \n",
       "\n",
       "      score                                       context_text  \\\n",
       "0      0.00  PERFORMING OPERATIONS; TRANSPORTING. PHYSICAL ...   \n",
       "1      0.00  PERFORMING OPERATIONS; TRANSPORTING. PHYSICAL ...   \n",
       "2      0.50  PERFORMING OPERATIONS; TRANSPORTING. PHYSICAL ...   \n",
       "3      0.50  PERFORMING OPERATIONS; TRANSPORTING. PHYSICAL ...   \n",
       "4      0.50  PERFORMING OPERATIONS; TRANSPORTING. PHYSICAL ...   \n",
       "...     ...                                                ...   \n",
       "9617   0.00  ELECTRICITY. GENERATION; CONVERSION OR DISTRIB...   \n",
       "9618   0.75  ELECTRICITY. GENERATION; CONVERSION OR DISTRIB...   \n",
       "9619   0.00  ELECTRICITY. GENERATION; CONVERSION OR DISTRIB...   \n",
       "9620   0.50  ELECTRICITY. GENERATION; CONVERSION OR DISTRIB...   \n",
       "9621   0.75  ELECTRICITY. GENERATION; CONVERSION OR DISTRIB...   \n",
       "\n",
       "                                                   text  fold      pred  \n",
       "0     acid absorption[SEP]absorbent cotton [s] PERFO...     3  0.000253  \n",
       "1     acid absorption[SEP]absorption spectrum [s] PE...     3  0.000587  \n",
       "2     acid absorption[SEP]acid [s] PERFORMING OPERAT...     3  0.411377  \n",
       "3     acid absorption[SEP]acid absorption column [s]...     3  0.499861  \n",
       "4     acid absorption[SEP]acid absorption tower [s] ...     3  0.457355  \n",
       "...                                                 ...   ...       ...  \n",
       "9617  wiring trough[SEP]water trough [s] ELECTRICITY...     3  0.005837  \n",
       "9618  wiring trough[SEP]wire harness trough [s] ELEC...     3  0.596055  \n",
       "9619  wiring trough[SEP]wire rod [s] ELECTRICITY. GE...     3  0.004403  \n",
       "9620  wiring trough[SEP]wire trough clamp [s] ELECTR...     3  0.381238  \n",
       "9621  wiring trough[SEP]wiring trough structure [s] ...     3  0.604334  \n",
       "\n",
       "[9622 rows x 9 columns]"
      ]
     },
     "execution_count": 74,
     "metadata": {},
     "output_type": "execute_result"
    }
   ],
   "source": [
    "df"
   ]
  },
  {
   "cell_type": "code",
   "execution_count": 75,
   "id": "3ec1636e-2016-4fb7-bc28-787d8d1e038d",
   "metadata": {},
   "outputs": [],
   "source": [
    "score = df.score.values\n",
    "pred = df.pred.values"
   ]
  },
  {
   "cell_type": "code",
   "execution_count": 76,
   "id": "441ee884-b691-4be8-b52f-212ef91f211b",
   "metadata": {},
   "outputs": [
    {
     "name": "stdout",
     "output_type": "stream",
     "text": [
      "0.8094913381395413\n"
     ]
    }
   ],
   "source": [
    "corr = np.corrcoef(score, pred)[0][1]\n",
    "print(corr)"
   ]
  },
  {
   "cell_type": "code",
   "execution_count": 77,
   "id": "02baf037-cacb-47b1-84e4-7347ff4b0f21",
   "metadata": {},
   "outputs": [
    {
     "name": "stdout",
     "output_type": "stream",
     "text": [
      "0.0209 is best: 0.001\n",
      "0.0209 is best: 0.012\n",
      "0.0209 is best: 0.001\n",
      "0.0209 is best: 0.086\n",
      "0.0209 is best: 0.006\n"
     ]
    }
   ],
   "source": [
    "target_list = [0, 0.25, 0.5, 0.75, 1.0]\n",
    "th_list = []\n",
    "for target in target_list:\n",
    "    best = 0\n",
    "    best_corr = 0\n",
    "    for i in range(0, 101):\n",
    "        j = i / 1000\n",
    "        condition = (pred > target - j) & (pred < target + j)\n",
    "        pred[condition] = target\n",
    "        corr = np.corrcoef(score, pred)[0][1]\n",
    "        if best_corr < corr:\n",
    "            best_corr = corr\n",
    "            best = j\n",
    "    print(f'{th} is best: {best}')\n",
    "    th_list.append(best)"
   ]
  },
  {
   "cell_type": "code",
   "execution_count": 78,
   "id": "deb71bc7-b02e-476e-be8c-5ec99191906c",
   "metadata": {},
   "outputs": [],
   "source": [
    "df = pd.read_pickle('./finetune/deberta-v3-large-e1_exp013/oof_df.pkl')\n",
    "score = df.score.values\n",
    "pred = df.pred.values"
   ]
  },
  {
   "cell_type": "code",
   "execution_count": 79,
   "id": "efc81b79-ca99-463b-a40d-51288b9f74a1",
   "metadata": {},
   "outputs": [],
   "source": [
    "for target, th in zip(target_list, th_list):\n",
    "    condition = (pred > target - th) & (pred < target + th)\n",
    "    pred[condition] = target"
   ]
  },
  {
   "cell_type": "code",
   "execution_count": 80,
   "id": "ac2d0a06-51c2-4979-ad83-d4832a183cf4",
   "metadata": {},
   "outputs": [
    {
     "name": "stdout",
     "output_type": "stream",
     "text": [
      "0.8095273671351279\n"
     ]
    }
   ],
   "source": [
    "corr = np.corrcoef(score, pred)[0][1]\n",
    "print(corr)"
   ]
  },
  {
   "cell_type": "markdown",
   "id": "0ef39cfe-59bb-4ff1-98e8-a773e1c8815a",
   "metadata": {},
   "source": [
    "# 別データ"
   ]
  },
  {
   "cell_type": "code",
   "execution_count": 81,
   "id": "80d1afa3-1026-4208-9004-7e546caa4918",
   "metadata": {},
   "outputs": [],
   "source": [
    "df = pd.read_pickle('./finetune/deberta-v3-large-e1_exp030/oof_df.pkl')"
   ]
  },
  {
   "cell_type": "code",
   "execution_count": 82,
   "id": "158599a9-099a-4698-a911-e6b7a4f8cd1f",
   "metadata": {},
   "outputs": [
    {
     "name": "stdout",
     "output_type": "stream",
     "text": [
      "0.8147230592463605\n"
     ]
    }
   ],
   "source": [
    "score = df.score.values\n",
    "pred = df.pred.values\n",
    "corr = np.corrcoef(score, pred)[0][1]\n",
    "print(corr)"
   ]
  },
  {
   "cell_type": "code",
   "execution_count": 83,
   "id": "98c676bb-17e4-4f38-afca-30c0add2106a",
   "metadata": {},
   "outputs": [
    {
     "name": "stdout",
     "output_type": "stream",
     "text": [
      "0.006 is best: 0.0018\n",
      "0.006 is best: 0.0316\n",
      "0.006 is best: 0.0219\n",
      "0.006 is best: 0.0377\n",
      "0.006 is best: 0.0209\n"
     ]
    }
   ],
   "source": [
    "target_list = [0, 0.25, 0.5, 0.75, 1.0]\n",
    "th_list = []\n",
    "for target in target_list:\n",
    "    best = 0\n",
    "    best_corr = 0\n",
    "    for i in range(0, 1001):\n",
    "        j = i / 10000\n",
    "        condition = (pred > target - j) & (pred < target + j)\n",
    "        pred[condition] = target\n",
    "        corr = np.corrcoef(score, pred)[0][1]\n",
    "        if best_corr < corr:\n",
    "            best_corr = corr\n",
    "            best = j\n",
    "    print(f'{th} is best: {best}')\n",
    "    th_list.append(best)"
   ]
  },
  {
   "cell_type": "code",
   "execution_count": 84,
   "id": "c54c902f-5475-48de-a6f5-b37611a10325",
   "metadata": {},
   "outputs": [],
   "source": [
    "df = pd.read_pickle('./finetune/deberta-v3-large-e1_exp030/oof_df.pkl')\n",
    "score = df.score.values\n",
    "pred = df.pred.values"
   ]
  },
  {
   "cell_type": "code",
   "execution_count": 85,
   "id": "118943ae-d7cc-44b8-80cb-ad98508ffe81",
   "metadata": {},
   "outputs": [],
   "source": [
    "for target, th in zip(target_list, th_list):\n",
    "    condition = (pred > target - th) & (pred < target + th)\n",
    "    pred[condition] = target"
   ]
  },
  {
   "cell_type": "code",
   "execution_count": 86,
   "id": "0b17b495-a7c4-4ef6-88f7-a8a8ce506ac3",
   "metadata": {},
   "outputs": [
    {
     "name": "stdout",
     "output_type": "stream",
     "text": [
      "0.8152230591387194\n"
     ]
    }
   ],
   "source": [
    "corr = np.corrcoef(score, pred)[0][1]\n",
    "print(corr)"
   ]
  },
  {
   "cell_type": "markdown",
   "id": "1187b8df-0fd4-43cc-88f0-91280577cc08",
   "metadata": {},
   "source": [
    "# 別データv2"
   ]
  },
  {
   "cell_type": "code",
   "execution_count": 87,
   "id": "78be2b50-419e-4995-863e-8daa6b5a93ff",
   "metadata": {},
   "outputs": [
    {
     "name": "stdout",
     "output_type": "stream",
     "text": [
      "0.7842537863022265\n",
      "0.0209 is best: 0.0037\n",
      "0.0209 is best: 0.0086\n",
      "0.0209 is best: 0.0215\n",
      "0.0209 is best: 0.0302\n",
      "0.0209 is best: 0.0115\n"
     ]
    }
   ],
   "source": [
    "df = pd.read_pickle('./finetune/PatentSBERTa-exp015/oof_df.pkl')\n",
    "score = df.score.values\n",
    "pred = df.pred.values\n",
    "corr = np.corrcoef(score, pred)[0][1]\n",
    "print(corr)\n",
    "target_list = [0, 0.25, 0.5, 0.75, 1.0]\n",
    "th_list = []\n",
    "for target in target_list:\n",
    "    best = 0\n",
    "    best_corr = 0\n",
    "    for i in range(0, 1001):\n",
    "        j = i / 10000\n",
    "        condition = (pred > target - j) & (pred < target + j)\n",
    "        pred[condition] = target\n",
    "        corr = np.corrcoef(score, pred)[0][1]\n",
    "        if best_corr < corr:\n",
    "            best_corr = corr\n",
    "            best = j\n",
    "    print(f'{th} is best: {best}')\n",
    "    th_list.append(best)"
   ]
  },
  {
   "cell_type": "code",
   "execution_count": 89,
   "id": "9f151aa9-b9d5-4b3a-bff3-d0e8c1a8c39e",
   "metadata": {},
   "outputs": [
    {
     "name": "stdout",
     "output_type": "stream",
     "text": [
      "0.7844063347309391\n"
     ]
    }
   ],
   "source": [
    "df = pd.read_pickle('./finetune/PatentSBERTa-exp015/oof_df.pkl')\n",
    "score = df.score.values\n",
    "pred = df.pred.values\n",
    "for target, th in zip(target_list, th_list):\n",
    "    condition = (pred > target - th) & (pred < target + th)\n",
    "    pred[condition] = target\n",
    "    \n",
    "corr = np.corrcoef(score, pred)[0][1]\n",
    "print(corr)"
   ]
  },
  {
   "cell_type": "code",
   "execution_count": null,
   "id": "212df0f0-e667-4d7f-ba3f-a50554754097",
   "metadata": {},
   "outputs": [],
   "source": []
  }
 ],
 "metadata": {
  "kernelspec": {
   "display_name": "Python 3",
   "language": "python",
   "name": "python3"
  },
  "language_info": {
   "codemirror_mode": {
    "name": "ipython",
    "version": 3
   },
   "file_extension": ".py",
   "mimetype": "text/x-python",
   "name": "python",
   "nbconvert_exporter": "python",
   "pygments_lexer": "ipython3",
   "version": "3.8.12"
  }
 },
 "nbformat": 4,
 "nbformat_minor": 5
}
